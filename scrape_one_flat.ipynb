{
 "cells": [
  {
   "cell_type": "code",
   "execution_count": 1,
   "metadata": {},
   "outputs": [],
   "source": [
    "from bs4 import BeautifulSoup\n",
    "import requests"
   ]
  },
  {
   "cell_type": "code",
   "execution_count": 77,
   "metadata": {},
   "outputs": [
    {
     "data": {
      "text/plain": [
       "['23/02/2020',\n",
       " 'Śródmieście, Warszawa',\n",
       " 'Właściciel',\n",
       " 'Mieszkanie',\n",
       " '2 pokoje',\n",
       " '1 łazienka',\n",
       " '48',\n",
       " 'Kryty']"
      ]
     },
     "execution_count": 77,
     "metadata": {},
     "output_type": "execute_result"
    }
   ],
   "source": [
    "url = 'https://www.gumtree.pl/a-mieszkania-i-domy-sprzedam-i-kupie/srodmiescie/dwupokojowe-mieszkanie-na-sprzedaz-chmielna/1006950207540911136948109'\n",
    "data = {\n",
    "        'data_dodania': [], \n",
    "        'dzielnica':[], \n",
    "        'wystawia':[],\n",
    "        'rodzaj': [],\n",
    "        'liczba_pokoi': [],\n",
    "        'liczba_lazienek' : [],\n",
    "        'powierzchnia': [],\n",
    "        'parking' : []\n",
    "       }\n",
    "page = requests.get(url)\n",
    "soup = BeautifulSoup(page.content, 'html.parser')\n",
    "\n",
    "info = soup.find_all('div', class_ = 'attribute')\n",
    "record = [flat.find(class_ = 'value').text for flat in info ]\n",
    "#for i in range(len(record)):\n",
    "#    data[i].append(record[i-1])\n",
    "record"
   ]
  },
  {
   "cell_type": "code",
   "execution_count": null,
   "metadata": {},
   "outputs": [],
   "source": []
  }
 ],
 "metadata": {
  "kernelspec": {
   "display_name": "Python 3",
   "language": "python",
   "name": "python3"
  },
  "language_info": {
   "codemirror_mode": {
    "name": "ipython",
    "version": 3
   },
   "file_extension": ".py",
   "mimetype": "text/x-python",
   "name": "python",
   "nbconvert_exporter": "python",
   "pygments_lexer": "ipython3",
   "version": "3.7.3"
  }
 },
 "nbformat": 4,
 "nbformat_minor": 4
}
