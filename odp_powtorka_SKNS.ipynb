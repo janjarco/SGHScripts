{
 "cells": [
  {
   "cell_type": "markdown",
   "metadata": {},
   "source": [
    "# Odpowiedzi do powtórki - Środowe warsztaty z Pythona - SKN Statystyki\n"
   ]
  },
  {
   "cell_type": "markdown",
   "metadata": {},
   "source": [
    "Przed semstrem letnim przygotowaliśmy dla Was ćwiczenia, które przypomną materiał przerabiany w zeszłym semstrze, tak by nie mieć braków przed zbliżającym się, letnim. Jest to również idealne podsumowanie dla osób chcących do nas dołączyć i nie wiedzą, co przerobić. \n",
    "\n",
    "Gdy wyjdzie Tobie to samo co na dole, to znaczy, że odpowiedź jest prawidłowa i możesz iść dalej. Konkretne odpowiedzi znajdują się w pliku 'odp_powtorka_SKNS.ipynb', natomiast zachęcamy do sprawdzenia na GitHubie (https://github.com/MichalKorzycki/WarsztatPythonDataScience) lub poszukajcie w internecie - trzeba tylko odpowiednio zapytać np. 'python pandas how to change name of a column'\n",
    "\n",
    "Możecie też przypomnieć sobie ćwiczenia, które przygotowaliśmy dla Was po świętach. https://drive.google.com/open?id=1qU2Vr_m57oioX06occnHbYZImeR9ALof"
   ]
  },
  {
   "cell_type": "code",
   "execution_count": null,
   "metadata": {},
   "outputs": [],
   "source": []
  },
  {
   "cell_type": "markdown",
   "metadata": {},
   "source": [
    "Masz tu zagnieżdżoną listę, wyjmij z niej słowo 'hello'"
   ]
  },
  {
   "cell_type": "code",
   "execution_count": null,
   "metadata": {},
   "outputs": [],
   "source": [
    "hell = [1,2,[3,4],[5,[100,200,['hello']],23,11],1,7]"
   ]
  },
  {
   "cell_type": "code",
   "execution_count": null,
   "metadata": {},
   "outputs": [],
   "source": [
    "hell[3][1][2][0]"
   ]
  },
  {
   "cell_type": "markdown",
   "metadata": {},
   "source": [
    "Stwórz funkcję 'only_domain', która dostając adres email np. 'alex.mitras@domain.com' zwraca nazwę domeny 'domain.com'|"
   ]
  },
  {
   "cell_type": "code",
   "execution_count": null,
   "metadata": {},
   "outputs": [],
   "source": [
    "def only_domain(x):\n",
    "    return x.split('@')[1]"
   ]
  },
  {
   "cell_type": "markdown",
   "metadata": {},
   "source": [
    "Teraz uruchom poniższy wiersz za pomocą 'Shift + Enter'"
   ]
  },
  {
   "cell_type": "code",
   "execution_count": null,
   "metadata": {},
   "outputs": [],
   "source": [
    "only_domain('skn.staty@gmail.com')"
   ]
  },
  {
   "cell_type": "markdown",
   "metadata": {},
   "source": [
    "Stwórz funkcję, która zwraca z listy tylko słowa zaczynające się na literę 's'"
   ]
  },
  {
   "cell_type": "code",
   "execution_count": null,
   "metadata": {},
   "outputs": [],
   "source": [
    "lst = ['samotność', 'bazar', 'samochód', 'arabeska', 'podróż']"
   ]
  },
  {
   "cell_type": "code",
   "execution_count": null,
   "metadata": {},
   "outputs": [],
   "source": [
    "list(filter(lambda word : word[0] == 's', lst ))"
   ]
  },
  {
   "cell_type": "markdown",
   "metadata": {},
   "source": [
    "Prowadzisz auto trochę za szybko i policjant Cię zatrzymuje. Napisz funkcję 'drogowka', która daje 3 możliwe rezultaty: \"Brak mandatu\", \"Niski mandat\", or \"Wysoki mandat\". Jeśli prekość jest 50 lub mniejsza, wyświetla się \"Brak mandatu\". Jesli prędkość jest między 51 i 60 włącznie, daje \"Niski mandat\". Jeśli prędkośc to 61 lub więcej, wyświetla się \"Wysoki mandat\". Jeśli masz tego dnia urodziny (jako wartość zerojedynkowa boolean) możesz jechać 5 km/h szybciej."
   ]
  },
  {
   "cell_type": "code",
   "execution_count": null,
   "metadata": {},
   "outputs": [],
   "source": [
    "def drogowka(speed, is_birthday):\n",
    "    limit1 =50\n",
    "    limit2 = 60\n",
    "    if is_birthday == True:\n",
    "        limit1 += 5\n",
    "        limit2 += 5\n",
    "    if speed >limit2:\n",
    "        return \"Wysoki mandat\"\n",
    "    elif speed > limit1:\n",
    "        return \"Niski mandat\"\n",
    "    else:\n",
    "        return \"Brak mandatu\"\n",
    "        "
   ]
  },
  {
   "cell_type": "code",
   "execution_count": null,
   "metadata": {},
   "outputs": [],
   "source": [
    "drogowka(62, True)"
   ]
  },
  {
   "cell_type": "code",
   "execution_count": null,
   "metadata": {},
   "outputs": [],
   "source": [
    "drogowka(70, False)"
   ]
  },
  {
   "cell_type": "markdown",
   "metadata": {},
   "source": [
    "Stwórz funkcję 'fib' po wpisaniu ilości generuje taką listę z ciągiem liczb Fibonacciego, czyli rozpoczynającym się od 0,1 potem każda liczba w ciągu jest sumą dwóch poprzednich (0,1,1,2,3,5,8,13,21,34,55,89,...). "
   ]
  },
  {
   "cell_type": "code",
   "execution_count": null,
   "metadata": {},
   "outputs": [],
   "source": [
    "#to jest jedna z naprawdę wielu możliwości\n",
    "def fib(count):\n",
    "    i = 1\n",
    "    if count == 0:\n",
    "        fibo = []\n",
    "    elif count == 1:\n",
    "        fibo = [1]\n",
    "    elif count == 2:\n",
    "        fibo = [1,1]\n",
    "    elif count > 2:\n",
    "        fibo = [1,1]\n",
    "        while i < (count - 1):\n",
    "            fibo.append(fibo[i] + fibo[i-1])\n",
    "            i += 1\n",
    "\n",
    "    print(fibo)\n",
    "    \n"
   ]
  },
  {
   "cell_type": "markdown",
   "metadata": {},
   "source": [
    "Poniżej użycie funkcji input - uruchom wiersz. Ciekawe co?"
   ]
  },
  {
   "cell_type": "code",
   "execution_count": null,
   "metadata": {},
   "outputs": [],
   "source": [
    "fib(int(input(\"Pokażę tyle liczb Fibonacciego, ile tylko zechcesz:\")))"
   ]
  },
  {
   "cell_type": "markdown",
   "metadata": {},
   "source": [
    "Zaimportuj bibliotekę pandas jako pd i numpy jako np "
   ]
  },
  {
   "cell_type": "code",
   "execution_count": null,
   "metadata": {},
   "outputs": [],
   "source": [
    "import pandas as pd\n",
    "import numpy as np"
   ]
  },
  {
   "cell_type": "markdown",
   "metadata": {},
   "source": [
    "Zaimportuj plik 'Ecommerce Purchases' jako dataframe o nazwie 'ecom'. Są to fałszywe dane transakcyjne ze sklepu internetowego. RODO zachowane ;-)\n"
   ]
  },
  {
   "cell_type": "code",
   "execution_count": null,
   "metadata": {},
   "outputs": [],
   "source": [
    "ecom = pd.read_csv('Ecommerce Purchases')"
   ]
  },
  {
   "cell_type": "markdown",
   "metadata": {},
   "source": [
    "Wyświetl 10 pierwszych linijek "
   ]
  },
  {
   "cell_type": "code",
   "execution_count": null,
   "metadata": {},
   "outputs": [],
   "source": [
    "ecom.head(10)"
   ]
  },
  {
   "cell_type": "markdown",
   "metadata": {},
   "source": [
    "Jak wiele kolumn i wierszy ma ten dataframe?"
   ]
  },
  {
   "cell_type": "code",
   "execution_count": null,
   "metadata": {},
   "outputs": [],
   "source": [
    "ecom.info()"
   ]
  },
  {
   "cell_type": "markdown",
   "metadata": {},
   "source": [
    "Jaka jest średnia 'Purchase Price' ? Zaokrąglij, do 2 miejsc po przecinku"
   ]
  },
  {
   "cell_type": "code",
   "execution_count": null,
   "metadata": {},
   "outputs": [],
   "source": [
    "round(ecom['Purchase Price'].mean(),2)"
   ]
  },
  {
   "cell_type": "markdown",
   "metadata": {},
   "source": [
    "Jaka jest najniższa i najwyższa 'Purchase Price'?"
   ]
  },
  {
   "cell_type": "code",
   "execution_count": null,
   "metadata": {},
   "outputs": [],
   "source": [
    "ecom['Purchase Price'].max()"
   ]
  },
  {
   "cell_type": "code",
   "execution_count": null,
   "metadata": {},
   "outputs": [],
   "source": [
    "ecom['Purchase Price'].min()"
   ]
  },
  {
   "cell_type": "markdown",
   "metadata": {},
   "source": [
    "Jak wiele osób ma zapisany język francuski 'fr ?'"
   ]
  },
  {
   "cell_type": "code",
   "execution_count": null,
   "metadata": {},
   "outputs": [],
   "source": [
    "ecom[ecom['Language']=='fr'].count()"
   ]
  },
  {
   "cell_type": "markdown",
   "metadata": {},
   "source": [
    "Rozdziel kolumnę 'CC Exp Date' na dwie kolumny 'CC Exp Month' i 'CC Exp Year'"
   ]
  },
  {
   "cell_type": "code",
   "execution_count": null,
   "metadata": {},
   "outputs": [],
   "source": [
    "ecom['CC Exp Month'] = ecom['CC Exp Date'].apply(lambda x: x.split('/')[0])"
   ]
  },
  {
   "cell_type": "code",
   "execution_count": null,
   "metadata": {},
   "outputs": [],
   "source": [
    "ecom['CC Exp Year'] = '20' + ecom['CC Exp Date'].apply(lambda x: x.split('/')[-1])"
   ]
  },
  {
   "cell_type": "code",
   "execution_count": null,
   "metadata": {},
   "outputs": [],
   "source": [
    "ecom.head()"
   ]
  },
  {
   "cell_type": "markdown",
   "metadata": {},
   "source": [
    "Usuń kolumnę 'CC Exp Date'"
   ]
  },
  {
   "cell_type": "code",
   "execution_count": null,
   "metadata": {},
   "outputs": [],
   "source": [
    "ecom.drop(columns = 'CC Exp Date')"
   ]
  },
  {
   "cell_type": "markdown",
   "metadata": {},
   "source": [
    "Usuń kolumnę 'CC Exp Date' na stałe"
   ]
  },
  {
   "cell_type": "code",
   "execution_count": null,
   "metadata": {},
   "outputs": [],
   "source": [
    "ecom.drop(columns = 'CC Exp Date', inplace = True)"
   ]
  },
  {
   "cell_type": "markdown",
   "metadata": {},
   "source": [
    "Teraz dla ćwiczenia połącz kolumny 'CC Exp Month' i 'CC Exp Year' w jedną 'CC Exp Date'"
   ]
  },
  {
   "cell_type": "code",
   "execution_count": null,
   "metadata": {},
   "outputs": [],
   "source": [
    "ecom['CC Exp Date'] = ecom['CC Exp Month'] + '/' + ecom['CC Exp Year']"
   ]
  },
  {
   "cell_type": "code",
   "execution_count": null,
   "metadata": {},
   "outputs": [],
   "source": [
    "ecom.head()"
   ]
  },
  {
   "cell_type": "markdown",
   "metadata": {},
   "source": [
    "Jak wiele osób ma kartę kredytową wygasającą w 2022 roku?"
   ]
  },
  {
   "cell_type": "code",
   "execution_count": null,
   "metadata": {},
   "outputs": [],
   "source": [
    "ecom[ecom['CC Exp Year']== '2022'].count()"
   ]
  },
  {
   "cell_type": "markdown",
   "metadata": {},
   "source": [
    "Pokaż e-mail osoby z nr karty 561252141909"
   ]
  },
  {
   "cell_type": "code",
   "execution_count": null,
   "metadata": {},
   "outputs": [],
   "source": [
    "ecom[ecom['Credit Card']== 561252141909]['Email']"
   ]
  },
  {
   "cell_type": "markdown",
   "metadata": {},
   "source": [
    "Jakich jest 5 top dostawców kart kredytowych?"
   ]
  },
  {
   "cell_type": "code",
   "execution_count": null,
   "metadata": {},
   "outputs": [],
   "source": [
    "ecom['CC Provider'].value_counts().head(5)"
   ]
  },
  {
   "cell_type": "markdown",
   "metadata": {},
   "source": [
    "Pokaż ile osób zrobiło zakup przed i po południu (AM lub PM)"
   ]
  },
  {
   "cell_type": "code",
   "execution_count": null,
   "metadata": {},
   "outputs": [],
   "source": [
    "ecom.groupby(by = 'AM or PM').count()['Email']\n"
   ]
  },
  {
   "cell_type": "markdown",
   "metadata": {},
   "source": [
    "Pokaż sumy i średnie wartości transakcji w zależności od języków "
   ]
  },
  {
   "cell_type": "code",
   "execution_count": null,
   "metadata": {},
   "outputs": [],
   "source": [
    "ecom.pivot_table(index = 'Language', values = 'Purchase Price', aggfunc = ['mean', 'sum'])"
   ]
  },
  {
   "cell_type": "markdown",
   "metadata": {},
   "source": [
    "Jak wiele osób używa kart Mastercard i zrobiło zakupy powyżej 80$"
   ]
  },
  {
   "cell_type": "code",
   "execution_count": null,
   "metadata": {},
   "outputs": [],
   "source": [
    "ecom[(\n",
    "    ecom['CC Provider'] == 'Mastercard')\n",
    "     & (ecom['Purchase Price'] >80)].count()"
   ]
  },
  {
   "cell_type": "markdown",
   "metadata": {},
   "source": [
    "# Tidy Data"
   ]
  },
  {
   "cell_type": "markdown",
   "metadata": {},
   "source": [
    "Poniżej wczytujemy bazę danych z arkusza excel ONZ o migracji (link: https://www.un.org/en/development/desa/population/migration/data/estimates2/estimates15.asp - klinkij link 'By destination and origin'). Najpierw zapoznaj się z nią jak wygląda w Excelu. Wybieramy 'Table 15' i pomijamy pierwszych 15 wierszy. By zobaczyć jakie jeszcze możliwości skrywa funkcja .read_excel(), będąc w nawiasie klinkij 'Shift + Tab' - taki opis jest dla każdej funkcji :-)"
   ]
  },
  {
   "cell_type": "code",
   "execution_count": null,
   "metadata": {},
   "outputs": [],
   "source": [
    "import pandas as pd\n",
    "undf = pd.read_excel(\n",
    "    'UN_MigrantStockByOriginAndDestination_2015.xlsx',\n",
    "    sheet_name='Table 15',\n",
    "    skiprows=15\n",
    ")\n"
   ]
  },
  {
   "cell_type": "markdown",
   "metadata": {},
   "source": [
    "Obejrzyj jak wygląda nasz dataframe"
   ]
  },
  {
   "cell_type": "code",
   "execution_count": null,
   "metadata": {},
   "outputs": [],
   "source": [
    "undf.head()"
   ]
  },
  {
   "cell_type": "markdown",
   "metadata": {},
   "source": [
    "Zauważ, że kolumna E w Excelu jest zawsze opisem danych, tutaj można łatwo zobaczyć że nosi nazwę 'Unnamed: 4'. Teraz oczyścimy, by mieć dane bez podsumowań."
   ]
  },
  {
   "cell_type": "code",
   "execution_count": null,
   "metadata": {},
   "outputs": [],
   "source": [
    "undf = undf[undf['Unnamed: 4'].notna()]\n"
   ]
  },
  {
   "cell_type": "code",
   "execution_count": null,
   "metadata": {},
   "outputs": [],
   "source": [
    "undf.head(25)"
   ]
  },
  {
   "cell_type": "markdown",
   "metadata": {},
   "source": [
    "Pozbyj się niepotrzebnych kolumn"
   ]
  },
  {
   "cell_type": "code",
   "execution_count": null,
   "metadata": {},
   "outputs": [],
   "source": [
    "undf.drop(['Unnamed: 0', 'Unnamed: 2', 'Unnamed: 4', 'Total'],\n",
    "                  axis=1,\n",
    "                  inplace=True)"
   ]
  },
  {
   "cell_type": "code",
   "execution_count": null,
   "metadata": {},
   "outputs": [],
   "source": [
    "undf.head(10)"
   ]
  },
  {
   "cell_type": "markdown",
   "metadata": {},
   "source": [
    "Zmień nazwy kolumn 'Unnamed: 1'na 'Destination Country' i 'Unnamed: 3' na 'Destination Country Code', zapisując zmiany w dataframe."
   ]
  },
  {
   "cell_type": "code",
   "execution_count": null,
   "metadata": {},
   "outputs": [],
   "source": [
    "undf.rename(columns={'Unnamed: 1': 'Destination Country', 'Unnamed: 3': 'Destination Country Code' }, inplace = True)"
   ]
  },
  {
   "cell_type": "code",
   "execution_count": null,
   "metadata": {},
   "outputs": [],
   "source": [
    "undf.head()"
   ]
  },
  {
   "cell_type": "markdown",
   "metadata": {},
   "source": [
    "Teraz przerób na postać 'Tidy' - jak to wykonać znajdziesz w wykładach 4 i 5"
   ]
  },
  {
   "cell_type": "code",
   "execution_count": null,
   "metadata": {},
   "outputs": [],
   "source": [
    "undf = undf.melt(\n",
    "    id_vars=['Destination Country', 'Destination Country Code'],\n",
    "    value_name='People',\n",
    "    var_name='Origin Country'\n",
    ")"
   ]
  },
  {
   "cell_type": "code",
   "execution_count": null,
   "metadata": {},
   "outputs": [],
   "source": [
    "undf.head()"
   ]
  },
  {
   "cell_type": "markdown",
   "metadata": {},
   "source": [
    "I dane są tidy! To bardzo ważne by umieć je przetworzyć w taki sposób. W tej postaci używamy ich później w analizach"
   ]
  },
  {
   "cell_type": "markdown",
   "metadata": {},
   "source": [
    "Pokaż z jakich krajów przyjeżdzali migranici do Polski"
   ]
  },
  {
   "cell_type": "code",
   "execution_count": null,
   "metadata": {},
   "outputs": [],
   "source": [
    "toPoland = undf.pivot_table( values = 'People',index = 'Origin Country' ,columns='Destination Country')['Poland']\n",
    "toPoland"
   ]
  },
  {
   "cell_type": "markdown",
   "metadata": {},
   "source": [
    "Uzupełnij puste pola zerami przy użyciu .fillna()"
   ]
  },
  {
   "cell_type": "code",
   "execution_count": null,
   "metadata": {},
   "outputs": [],
   "source": [
    "toPoland.fillna(value=0)"
   ]
  },
  {
   "cell_type": "markdown",
   "metadata": {},
   "source": [
    "# Świetna robota, do zobaczenia w środę!"
   ]
  },
  {
   "cell_type": "markdown",
   "metadata": {},
   "source": [
    "Źródła: Materiały Jose Portilla oraz https://medium.com/@aaronmak/tidying-datasets-in-python-8634f39159bc \n",
    "        a także https://www.un.org/en/development/desa/population/migration/data/estimates2/estimates15.shtml"
   ]
  },
  {
   "cell_type": "code",
   "execution_count": null,
   "metadata": {},
   "outputs": [],
   "source": []
  }
 ],
 "metadata": {
  "kernelspec": {
   "display_name": "Python 3",
   "language": "python",
   "name": "python3"
  },
  "language_info": {
   "codemirror_mode": {
    "name": "ipython",
    "version": 3
   },
   "file_extension": ".py",
   "mimetype": "text/x-python",
   "name": "python",
   "nbconvert_exporter": "python",
   "pygments_lexer": "ipython3",
   "version": "3.7.3"
  }
 },
 "nbformat": 4,
 "nbformat_minor": 2
}
